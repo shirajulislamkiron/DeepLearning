{
  "nbformat": 4,
  "nbformat_minor": 0,
  "metadata": {
    "colab": {
      "provenance": []
    },
    "kernelspec": {
      "name": "python3",
      "display_name": "Python 3"
    },
    "language_info": {
      "name": "python"
    }
  },
  "cells": [
    {
      "cell_type": "code",
      "execution_count": null,
      "metadata": {
        "id": "a5e7LYHMqe0j"
      },
      "outputs": [],
      "source": [
        "import cv2\n",
        "\n",
        "face_detector = cv2.CascadeClassifier('haarcascade_frontalface_default.xml')\n",
        "eye_detector = cv2.CascadeClassifier('haarcascade_eye.xml')\n",
        "\n",
        "cam = cv2.VideoCapture(0)\n",
        "\n",
        "ret = True\n",
        "\n",
        "while ret:\n",
        "    ret, frame = cam.read()\n",
        "\n",
        "    if ret == True:\n",
        "        gray = cv2.cvtColor(frame, cv2.COLOR_BGR2GRAY)\n",
        "        face_points = face_detector.detectMultiScale(gray, 1.3, 5)\n",
        "        for (x, y, w, h) in face_points:\n",
        "            cv2.rectangle(frame, (x, y), (x+w, y+h), (255, 0, 20), 2)\n",
        "        \n",
        "            face = frame[y:y+h,x:x+w]\n",
        "            eyes = eye_detector.detectMultiScale(face,1.3,5)\n",
        "            for (x, y, w, h) in eyes:\n",
        "                cv2.rectangle(face, (x, y), (x+w, y+h), (155, 0, 120), 2)\n",
        "\n",
        "        cv2.imshow('Live feed', frame)\n",
        "\n",
        "    if cv2.waitKey(1) == 27:\n",
        "        break\n",
        "\n",
        "cam.release()\n",
        "cv2.destroyAllWindows()"
      ]
    }
  ]
}